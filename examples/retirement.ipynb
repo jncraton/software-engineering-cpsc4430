{
 "cells": [
  {
   "cell_type": "code",
   "execution_count": null,
   "id": "f1aad308-4dfb-4712-abc9-5a7809ea22b3",
   "metadata": {},
   "outputs": [],
   "source": [
    "import pandas as pd\n",
    "\n",
    "net_worth_initial = 600\n",
    "working_years = 30\n",
    "income = 90+0\n",
    "expenses = 30\n",
    "interest = 0.07\n",
    "safe_withdrawal_rate = 0.035\n",
    "\n",
    "def simulate_year(previous_net_worth):\n",
    "    new_savings = income - expenses\n",
    "    \n",
    "    return new_savings + (previous_net_worth) * (1.0 + interest)\n",
    "\n",
    "net_worth_by_year = [net_worth_initial]\n",
    "\n",
    "for _ in range(working_years):\n",
    "    net_worth_by_year.append(simulate_year(net_worth_by_year[-1]))\n",
    "    \n",
    "df = pd.DataFrame({'net_worth': net_worth_by_year})\n",
    "\n",
    "df.plot(title=\"Net Worth By Year\")\n",
    "\n",
    "retirement_income = net_worth_by_year[-1] * safe_withdrawal_rate\n",
    "print(f\"Retirement Income: {retirement_income:.0f}k\")\n",
    "\n",
    "try:\n",
    "    fi = df[df.net_worth * safe_withdrawal_rate > expenses].index[0]\n",
    "    print(f\"Financial independence year: {fi}\")\n",
    "except IndexError:\n",
    "    print(f\"Retirement not possible in timeframe\")\n"
   ]
  }
 ],
 "metadata": {
  "kernelspec": {
   "display_name": "Python 3 (ipykernel)",
   "language": "python",
   "name": "python3"
  },
  "language_info": {
   "codemirror_mode": {
    "name": "ipython",
    "version": 3
   },
   "file_extension": ".py",
   "mimetype": "text/x-python",
   "name": "python",
   "nbconvert_exporter": "python",
   "pygments_lexer": "ipython3",
   "version": "3.9.2"
  }
 },
 "nbformat": 4,
 "nbformat_minor": 5
}
